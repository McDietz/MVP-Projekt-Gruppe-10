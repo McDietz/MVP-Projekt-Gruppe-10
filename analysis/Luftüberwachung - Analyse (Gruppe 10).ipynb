{
 "cells": [
  {
   "cell_type": "markdown",
   "id": "f5054506",
   "metadata": {},
   "source": [
    "# Luftüberwachung - Analyse der Ergebnisse"
   ]
  },
  {
   "cell_type": "markdown",
   "id": "b076afa1",
   "metadata": {},
   "source": [
    "In dem folgendem Jupiter Notebook werden die Daten aus dem AWS Datenspeicher aufbereitet und visualsiert. Basierend auf der Analyse werdem den Endverbrauche die wichtigsten Erkenntnisse per Telegram Bot auf das Handy geschickt. "
   ]
  },
  {
   "cell_type": "markdown",
   "id": "49b20141",
   "metadata": {},
   "source": [
    "Da die Auswertung über den Telegram-Bot erfolgen soll, werden die verschiedenen Schritte hier als Funktion definiert. Am Ende wird der Telegram-Bot definiert und gestartet.\n",
    "\n",
    "Für einen reibungslosen Ablauf sollte, das Notebook einmalig nach dem Hochfahren am Stück ausgeführt werden."
   ]
  },
  {
   "cell_type": "markdown",
   "id": "53b54ce9",
   "metadata": {},
   "source": [
    "### Vorbereitenende Maßnahmen"
   ]
  },
  {
   "cell_type": "code",
   "execution_count": 1,
   "id": "576de87b",
   "metadata": {},
   "outputs": [],
   "source": [
    "%matplotlib inline"
   ]
  },
  {
   "cell_type": "code",
   "execution_count": 2,
   "id": "8e3de604",
   "metadata": {},
   "outputs": [],
   "source": [
    "import boto3\n",
    "import pandas as pd\n",
    "import matplotlib.pyplot as plt\n",
    "from datetime import date, datetime, timedelta\n",
    "import requests\n",
    "from telegram.ext import *"
   ]
  },
  {
   "cell_type": "code",
   "execution_count": 3,
   "id": "5ed50707",
   "metadata": {},
   "outputs": [],
   "source": [
    "client = boto3.client(\"iotanalytics\")"
   ]
  },
  {
   "cell_type": "markdown",
   "id": "06c8b617",
   "metadata": {},
   "source": [
    "## Import  und Filtern der Daten"
   ]
  },
  {
   "cell_type": "markdown",
   "id": "c760b967",
   "metadata": {},
   "source": [
    "### Konvertieren der Zeitzone von UTC zu Europe/Berlin"
   ]
  },
  {
   "cell_type": "code",
   "execution_count": 4,
   "id": "fef9657d",
   "metadata": {},
   "outputs": [],
   "source": [
    "def convert_timezone(df):\n",
    "    df.index = df.index.tz_localize('UTC').tz_convert('Europe/Berlin').tz_localize(None)\n",
    "    return df"
   ]
  },
  {
   "cell_type": "markdown",
   "id": "3b78fe72",
   "metadata": {},
   "source": [
    "### Import der Daten und Aufbereitung"
   ]
  },
  {
   "cell_type": "code",
   "execution_count": 5,
   "id": "06099937",
   "metadata": {},
   "outputs": [],
   "source": [
    "def import_data(setName): # Daten werden importiert, der Timestamp in einen Datetype geändert und als Index gesetzt\n",
    "    data = client.get_dataset_content(datasetName=setName)\n",
    "    df = pd.read_csv(data[\"entries\"][0][\"dataURI\"])\n",
    "    df[\"timestamp\"] = pd.to_datetime(df[\"timestamp\"])\n",
    "    df.drop(\"__dt\", axis = 1, inplace = True)\n",
    "    df.set_index(\"timestamp\", inplace = True)\n",
    "    df=df.sort_index()\n",
    "    df = convert_timezone(df)\n",
    "    return df"
   ]
  },
  {
   "cell_type": "markdown",
   "id": "2c161a00",
   "metadata": {},
   "source": [
    "### Löschen aller Werte über 4000 PPM"
   ]
  },
  {
   "cell_type": "code",
   "execution_count": 6,
   "id": "d1bf2f09",
   "metadata": {},
   "outputs": [],
   "source": [
    "def remove_errors(df):\n",
    "    df.drop(df.index[df['co2'] >= 4000], inplace = True)\n",
    "    return df"
   ]
  },
  {
   "cell_type": "markdown",
   "id": "ad4994b9",
   "metadata": {},
   "source": [
    "### Lücken in den Daten mit None-Werten füllen (relevant für Darstellung)"
   ]
  },
  {
   "cell_type": "code",
   "execution_count": 7,
   "id": "feb8da8c",
   "metadata": {},
   "outputs": [],
   "source": [
    "def fill_df(df):\n",
    "    new_row = pd.Series({'co2':None, 'humidity':None, 'temperature':None})\n",
    "    for i in range(len(df)-1):\n",
    "        # Check if timedelta between timestamps is bigger than 30 secs and value of timestamp is not None, if so add None values\n",
    "        delta = (df.iloc[i+1].name - df.iloc[i].name).seconds\n",
    "        if delta > 30 and df.iloc[i]['co2'] != None:\n",
    "            new_row.name = df.iloc[i].name + timedelta(seconds = 6)\n",
    "            df = df.append(new_row, ignore_index=False)\n",
    "    return df"
   ]
  },
  {
   "cell_type": "code",
   "execution_count": 8,
   "id": "ea4ee1b8",
   "metadata": {},
   "outputs": [],
   "source": [
    "def filter_last_days(df,days = 7): \n",
    "    # Filter the last x days, default = 7\n",
    "    today = date.today()\n",
    "    week_ago = today - timedelta(days=days)\n",
    "    tomorow = today + timedelta(days=1)\n",
    "    df_filtered = df.loc[week_ago:tomorow]\n",
    "    return df_filtered\n",
    "    "
   ]
  },
  {
   "cell_type": "code",
   "execution_count": 9,
   "id": "b06b11a9",
   "metadata": {},
   "outputs": [],
   "source": [
    "def filter_last_days_2(df,start = 0,days = 7): \n",
    "    # Filter the last start+days days beginning with start, default: start=0, days=7\n",
    "    today = date.today()\n",
    "    week_ago = today - timedelta(days=(days+start))\n",
    "    tomorow = today - timedelta(days=start)\n",
    "    df_filtered = df.loc[week_ago:tomorow]\n",
    "    return df_filtered"
   ]
  },
  {
   "cell_type": "markdown",
   "id": "6efb7717",
   "metadata": {},
   "source": [
    "### Berechnung Grenzwertüberschreitung Co2"
   ]
  },
  {
   "cell_type": "code",
   "execution_count": 10,
   "id": "ddee8976",
   "metadata": {},
   "outputs": [],
   "source": [
    "def bounder_check(df, lower_bound= None, upper_bound = None): \n",
    "    # Returns percentage of Values in bounder(s)\n",
    "    # Bounders are included\n",
    "    if lower_bound == None:\n",
    "        out_bounder = df[df >= upper_bound]\n",
    "    elif upper_bound == None:\n",
    "        out_bounder = df[df <= lower_bound]\n",
    "    else:\n",
    "        out_bounder = df[(df <= lower_bound)] & df[(df >= upper_bound)]\n",
    "    \n",
    "    percent_out_bounder = len(out_bounder.index) / len(df.index) * 100\n",
    "    bounder_check_result = round(100 - percent_out_bounder,2)\n",
    "    return bounder_check_result"
   ]
  },
  {
   "cell_type": "code",
   "execution_count": 11,
   "id": "af00d05a",
   "metadata": {},
   "outputs": [],
   "source": [
    "def complete_bounder_check(df):\n",
    "    # Bounder check for complete df\n",
    "    bounder_check_result_co2 = bounder_check(df['co2'],upper_bound=800)\n",
    "    bounder_check_result_temp = bounder_check(df['temperature'],20,24)\n",
    "    bounder_check_result_humi = bounder_check(df['humidity'],40,60)\n",
    "    return [bounder_check_result_co2,bounder_check_result_temp,bounder_check_result_humi]"
   ]
  },
  {
   "cell_type": "code",
   "execution_count": 12,
   "id": "0c091ce0",
   "metadata": {},
   "outputs": [],
   "source": [
    "def compare(df_old,df,bounder_check_old,bounder_check,days):\n",
    "    \n",
    "    #df_old_described = df_old.describe()\n",
    "    #df_described = df.describe()\n",
    "    #df_compared = df_described.describe()/df_old_described.describe()-1\n",
    "    bounder_check_compare= []\n",
    "    for i in range(len(bounder_check_old)):\n",
    "        bounder_check_compare.append(round(bounder_check[i]-bounder_check_old[i],2))\n",
    "    message = ('In den letzten '+ str(days) + ' Tagen, hat sich dein Fortschritt im Vergleich zu den vorherigen ' + str(days) +\n",
    "               ' Tagen um folgende Prozentpunkte verändert:\\n'\n",
    "        'CO2 '+ str(bounder_check_compare[0])+ ' %P\\n'\n",
    "        'Temperatur '+ str(bounder_check_compare[1]) + ' %P\\n'\n",
    "        'Luftfeutigkeit '+ str(bounder_check_compare[2]) + ' %P')\n",
    "    return message"
   ]
  },
  {
   "cell_type": "code",
   "execution_count": 13,
   "id": "bb226d0c",
   "metadata": {},
   "outputs": [],
   "source": [
    "def bounder_cross(df,lower_bounder = None, upper_bounder = None):\n",
    "    counter = 0\n",
    "    if lower_bounder == None:\n",
    "        for i in range(1,len(df)):\n",
    "            if (df[i] >= upper_bounder and df[i-1] < upper_bounder):\n",
    "                counter +=1\n",
    "    elif upper_bounder == None:\n",
    "        for i in range(1,len(df)):\n",
    "            if (df[i] < lower_bounder and df[i-1] >= lower_bounder):\n",
    "                counter +=1\n",
    "    else:\n",
    "        for i in range(1,len(df)):\n",
    "            if (df[i] >= upper_bounder and df[i-1] < upper_bounder) or (df[i] <= lower_bounder and df[i-1] > lower_bounder):\n",
    "                counter +=1\n",
    "    return counter"
   ]
  },
  {
   "cell_type": "code",
   "execution_count": 14,
   "id": "2816b5b6",
   "metadata": {},
   "outputs": [],
   "source": [
    "def compare_bounder_cross(df,df_old,lower_bounder = None, upper_bounder = None):\n",
    "    df_old_bounder_cross = bounder_cross(df_old,lower_bounder, upper_bounder)\n",
    "    df_bounder_cross = bounder_cross(df,lower_bounder, upper_bounder)\n",
    "    return round((df_bounder_cross/df_old_bounder_cross-1)*100,2)"
   ]
  },
  {
   "cell_type": "markdown",
   "id": "caf869d1",
   "metadata": {},
   "source": [
    "## Visualisierung der Daten  \n",
    "\n",
    "Der Anwender erhählt die Auswertung der Messdaten in verschiedenen Formen. Zum einen bekommt er eine Gesamtübersicht über die vergangenen Woche. Da diese zum Teil sehr unübersichtlich ist, bekommt er er zusätlich eine einfach aufgearbeitet Ansicht in Ringform. Angelehnt an die \"Aktivitätsringe\" der Apple Watch soll der Anwender ein Gefühl dafür bekommen, wie es um seine Luftumgebung steht. Sind alle Ringe geschlossen, hatte der Anwender in der vergangenen Woche eine optimale Luftumgebung. "
   ]
  },
  {
   "cell_type": "markdown",
   "id": "372fe395",
   "metadata": {},
   "source": [
    "### Verlauf"
   ]
  },
  {
   "cell_type": "code",
   "execution_count": 15,
   "id": "10e7625b",
   "metadata": {},
   "outputs": [],
   "source": [
    "def graph(df):\n",
    "    ax = plt.gca()\n",
    "    ax1 = df.plot(use_index=True, y=\"co2\",  figsize=(20, 10),ylim=(0,2500), ax=ax)\n",
    "    ax2 = df.plot(use_index=True, y=[\"humidity\",\"temperature\"], secondary_y=True, ax=ax, grid = True)\n",
    "    file_path = 'sensor_data.png'\n",
    "\n",
    "    #design Bericht\n",
    "    ax.set_xlabel(\"Zeit\",size = 15)\n",
    "    ax.set_ylabel('PPM',size = 15)\n",
    "    ax2.set_ylabel('% / °C', size = 15)\n",
    "    ax.set_facecolor('white')\n",
    "    ax.set_title(\"Verlauf\", size = 30, color = \"black\")\n",
    "    plt.savefig(file_path)\n",
    "    plt.close()"
   ]
  },
  {
   "cell_type": "markdown",
   "id": "2ac40d6d",
   "metadata": {},
   "source": [
    "### Ringübersicht"
   ]
  },
  {
   "cell_type": "code",
   "execution_count": 16,
   "id": "74282c17",
   "metadata": {},
   "outputs": [],
   "source": [
    "def donut(data):\n",
    "    scenario_all = ['1. Co2-Gehalt','2. Luftfeuchtigkeit','3. Temperatur']\n",
    "    percentage_all = [ str(data[0]) , str(data[2]), str(data[1])]\n",
    "    num_all_1 = ['1.','2.','3.']\n",
    "\n",
    "    color = ['#5cdb6f','#6f5cdb','#db6f5c']\n",
    "\n",
    "    # create donut plots\n",
    "    startingRadius = 0.7 + (0.3* (len(scenario_all)-1))\n",
    "    fig = plt.figure()\n",
    "    for i in range(3):\n",
    "        scenario = scenario_all[i]\n",
    "        num_all = num_all_1[i]\n",
    "        percentage = percentage_all[i]\n",
    "        textLabel = str(scenario) + '\\n ' + str(percentage) + '%'\n",
    "        textLabel_1 = str(num_all) +' ' + str(percentage) + '%'\n",
    "\n",
    "        remainingPie = 100 - float(percentage)\n",
    "\n",
    "        donut_sizes = [remainingPie, percentage]\n",
    "        \n",
    "        plt.pie(donut_sizes, radius=startingRadius, startangle=90, colors=['#ffffff', color[i]],\n",
    "                wedgeprops={\"edgecolor\": \"grey\", 'linewidth': 1})\n",
    "        plt.text(1.3, startingRadius - 0.10, textLabel, horizontalalignment='left', verticalalignment='center', size = 10)\n",
    "    \n",
    "        plt.text(0.0, startingRadius - 0.20, textLabel_1, horizontalalignment='left', verticalalignment='center')\n",
    "    \n",
    "        \n",
    "    \n",
    "        plt.title(\"Dein Luftüberwachungsfortschritt\", size = 15)\n",
    "\n",
    "        startingRadius-=0.3\n",
    "\n",
    "    # equal ensures pie chart is drawn as a circle (equal aspect ratio)\n",
    "    plt.axis('equal')\n",
    "\n",
    "    # create circle and place onto pie chart\n",
    "    circle = plt.Circle(xy=(0, 0), radius=0.35, facecolor='grey')\n",
    "    plt.gca().add_artist(circle)\n",
    "\n",
    "    plt.savefig('piePlot.png',dpi=fig.dpi)\n",
    "    plt.close()\n"
   ]
  },
  {
   "cell_type": "markdown",
   "id": "ebc8369b",
   "metadata": {},
   "source": [
    "## Telegram-Bot"
   ]
  },
  {
   "cell_type": "markdown",
   "id": "7b7ac993",
   "metadata": {},
   "source": [
    "### Funktionen für einzelne Befehle"
   ]
  },
  {
   "cell_type": "code",
   "execution_count": 17,
   "id": "5c2ed0e4",
   "metadata": {},
   "outputs": [],
   "source": [
    "def analyse(days):\n",
    "    # Import Data\n",
    "    df_air = import_data('room_air_dataset')\n",
    "    # Filter last days\n",
    "    df_air_filt = filter_last_days(df_air,days)\n",
    "    df_air_filt_old = filter_last_days_2(df_air,days,days*2)\n",
    "    # Remove values when to high\n",
    "    df_air_filt = remove_errors(df_air_filt)\n",
    "    df_air_filt_old = remove_errors(df_air_filt_old)\n",
    "    # Calcuate Data for Circles\n",
    "    circles = complete_bounder_check(df_air_filt)\n",
    "    circles_old = complete_bounder_check(df_air_filt_old)\n",
    "    # Create Circles\n",
    "    donut(circles)\n",
    "    # Prepare Data for graph\n",
    "    df_graph_data = fill_df(df_air_filt)\n",
    "    # Create Graph\n",
    "    graph(df_graph_data)\n",
    "    # Comparsion to delta -1\n",
    "    message = compare(df_air_filt_old,df_air_filt,circles_old,circles,days)\n",
    "    result_bounder_cross = compare_bounder_cross(df_air_filt['co2'],df_air_filt_old['co2'], upper_bounder=800)\n",
    "    if result_bounder_cross >= 0:\n",
    "        change = 'zugenommen.'\n",
    "    else:\n",
    "        change = 'abgenommen.'\n",
    "    \n",
    "    message = message + '\\nDie Grenzüberschreitungen beim Co2 haben um ' + str(abs(result_bounder_cross)) + ' % ' + change\n",
    "    return message"
   ]
  },
  {
   "cell_type": "code",
   "execution_count": 18,
   "id": "b1a017ec",
   "metadata": {},
   "outputs": [],
   "source": [
    "def live():\n",
    "    df_air = import_data('room_air_dataset')\n",
    "    live_data = df_air.iloc[-1]\n",
    "    message = ('Die letzten gemessenen Werte:\\n'\n",
    "               'Uhrzeit '+ str(live_data.name)+ ' \\n'\n",
    "               'CO2             '+ str(live_data['co2'])+ ' PPM\\n'\n",
    "               'Temperatur      '+ str(live_data['temperature']) + ' °C\\n'\n",
    "               'Luftfeutigkeit  '+ str(live_data['humidity']) + ' %')\n",
    "    return message\n",
    "    "
   ]
  },
  {
   "cell_type": "markdown",
   "id": "ace9fc31",
   "metadata": {},
   "source": [
    "### Telegram-Bot Funktionen"
   ]
  },
  {
   "cell_type": "code",
   "execution_count": 19,
   "id": "591cdce7",
   "metadata": {},
   "outputs": [],
   "source": [
    "HEADERS = {\n",
    "    'Accept': 'application/json'}\n",
    "telegram_token = '5334156117:AAFoRuNdxE2CyXgLnfuWlQY1Tbm5qzQFuo4'\n",
    "allowed_ids = [5342271588] #280530619\n",
    "api_url = 'https://api.telegram.org/bot'+telegram_token+'/'\n",
    "\n",
    "\n",
    "def handle_message(update, context):\n",
    "    #print(update)\n",
    "    text = update.message.text\n",
    "\n",
    "    response = create_responses(text, update['message']['chat']['id'])\n",
    "    update.message.reply_text(response)\n",
    "\n",
    "    \n",
    "def main():\n",
    "    updater = Updater(telegram_token)\n",
    "    dp = updater.dispatcher\n",
    "\n",
    "    dp.add_handler(MessageHandler(Filters.text, handle_message))\n",
    "\n",
    "    updater.start_polling(0)\n",
    "    \n",
    "    \n",
    "def create_responses(input_text, id_chat):\n",
    "    # Check if user is allowed\n",
    "    input_text = input_text.lower()\n",
    "    if id_chat in allowed_ids:\n",
    "        if input_text == '/start':\n",
    "            return ('Hallo, herzlich Willkommen bei deinem persönlichen Luftüberwachungsassistenten!' \n",
    "                    'Ich freue auf die gemeinsame Zusammenarbeit')\n",
    "        \n",
    "        elif input_text == 'hilfe':\n",
    "            return ('Hast du Probleme mit dem Mikrocontroller, drücke die Resettaste und schaue ob das Problem behoben wurde.\\n'\n",
    "                    '\\n'\n",
    "                    'Folgende Befehle stehen Dir bei mir zur Verfügung: \\n'\n",
    "                    'Bericht (Anzahl)\\n'\n",
    "                    'Danke \\n'\n",
    "                    'Live \\n'\n",
    "                    'Kontakt')\n",
    "        \n",
    "        elif input_text == 'kontakt':\n",
    "            return 'Unter der folgenden Nummer kannst du uns 24/7 erreichen: +49 123 456789'\n",
    "        \n",
    "        elif input_text == 'danke':\n",
    "            return 'Gerne! Für weitere Anfragen stehe ich gerne zur Verfügung'\n",
    "        \n",
    "        elif input_text == 'live':\n",
    "            message = live()\n",
    "            return message\n",
    "        \n",
    "        elif 'bericht' in input_text:\n",
    "            text = input_text.split()\n",
    "            if len(input_text.split()) == 2:\n",
    "                try:\n",
    "                    number = int(text[1])\n",
    "                except:\n",
    "                    number = 7\n",
    "            else: \n",
    "                number = 7\n",
    "        \n",
    "            telegram_send('Deine Auswertung über ' + str(number)+ ' Tage wird erstellt...',id_chat)\n",
    "            try:\n",
    "                message = analyse(number)\n",
    "                send_photo(id_chat, open('piePlot.png', 'rb'))\n",
    "                send_photo(id_chat, open('sensor_data.png', 'rb'))\n",
    "                #sensor_data.png\n",
    "                return message\n",
    "            except Exception as e:\n",
    "                print(str(e))\n",
    "                return str(e)\n",
    "        else:\n",
    "            return 'Das habe ich nicht verstanden. Schicke bitte \"Hilfe\" oder \"Kontakt\", damit wir dir helfen können'\n",
    "    else:\n",
    "        return ('Du scheinst leider nicht die Berechtigung zu haben, mit dem Bot zu kommunzieren, ' \n",
    "                'bitte wende dich an den Botbesitzer')\n",
    "\n",
    "\n",
    "def telegram_send(message: str,telegram_chat_id: int ) -> None:\n",
    "    url = 'https://api.telegram.org/bot'+telegram_token+'/sendMessage'\n",
    "    params = {\n",
    "        'chat_id': telegram_chat_id,\n",
    "        'parse_mode': 'Markdown',\n",
    "        'text': message\n",
    "    }\n",
    "    r = requests.get(url, params=params, headers=HEADERS)\n",
    "\n",
    "    \n",
    "def send_photo(id_chat, file_opened):\n",
    "    method = \"sendPhoto\"\n",
    "    params = {'chat_id': id_chat}\n",
    "    files = {'photo': file_opened}\n",
    "    resp = requests.post(api_url + method, params, files=files)\n",
    "    return resp"
   ]
  },
  {
   "cell_type": "markdown",
   "id": "0e3913b9",
   "metadata": {},
   "source": [
    "### Start des Telegram-Bots"
   ]
  },
  {
   "cell_type": "code",
   "execution_count": 20,
   "id": "31e2121f",
   "metadata": {},
   "outputs": [],
   "source": [
    "if __name__ == \"__main__\":\n",
    "    main()"
   ]
  }
 ],
 "metadata": {
  "kernelspec": {
   "display_name": "Python 3 (ipykernel)",
   "language": "python",
   "name": "python3"
  },
  "language_info": {
   "codemirror_mode": {
    "name": "ipython",
    "version": 3
   },
   "file_extension": ".py",
   "mimetype": "text/x-python",
   "name": "python",
   "nbconvert_exporter": "python",
   "pygments_lexer": "ipython3",
   "version": "3.9.7"
  }
 },
 "nbformat": 4,
 "nbformat_minor": 5
}
